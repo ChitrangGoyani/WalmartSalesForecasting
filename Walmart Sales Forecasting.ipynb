{
 "cells": [
  {
   "cell_type": "code",
   "execution_count": 58,
   "metadata": {},
   "outputs": [],
   "source": [
    "import numpy as np\n",
    "import pandas as pd\n",
    "import matplotlib.pyplot as plt\n",
    "from matplotlib.colors import ListedColormap\n",
    "from sklearn import neighbors, datasets\n",
    "from sklearn import metrics\n",
    "s = pd.read_csv(\"waltrain.csv\", delimiter=\",\")"
   ]
  },
  {
   "cell_type": "code",
   "execution_count": 59,
   "metadata": {},
   "outputs": [
    {
     "name": "stdout",
     "output_type": "stream",
     "text": [
      "    Year  Month  Day  Week  Sum of Weekly_Sales\n",
      "0   2010      2    5     1          49750740.50\n",
      "1   2010      2   12     2          48336677.63\n",
      "2   2010      2   19     3          48276993.78\n",
      "3   2010      2   26     4          43968571.13\n",
      "4   2010      3    5     5          46871470.30\n",
      "5   2010      3   12     6          45925396.51\n",
      "6   2010      3   19     7          44988974.64\n",
      "7   2010      3   26     8          44133961.05\n",
      "8   2010      4    2     9          50423831.26\n",
      "9   2010      4    9    10          47365290.44\n",
      "10  2010      4   16    11          45183667.08\n",
      "11  2010      4   23    12          44734452.56\n",
      "12  2010      4   30    13          43705126.71\n",
      "13  2010      5    7    14          48503243.52\n",
      "14  2010      5   14    15          45330080.20\n",
      "15  2010      5   21    16          45120108.06\n",
      "16  2010      5   28    17          47757502.56\n",
      "17  2010      6    4    18          50188543.12\n",
      "18  2010      6   11    19          47826546.72\n",
      "19  2010      6   18    20          47622046.23\n",
      "20  2010      6   25    21          46609036.29\n",
      "21  2010      7    2    22          48917484.50\n",
      "22  2010      7    9    23          47899529.37\n",
      "23  2010      7   16    24          46243899.58\n",
      "24  2010      7   23    25          44888849.11\n",
      "25  2010      7   30    26          44630363.42\n",
      "26  2010      8    6    27          48204999.12\n",
      "27  2010      8   13    28          46464418.41\n",
      "28  2010      8   20    29          47060952.92\n",
      "29  2010      8   27    30          45909740.44\n",
      "30  2010      9    3    31          47194257.61\n",
      "31  2010      9   10    32          45634397.84\n",
      "32  2010      9   17    33          43080726.51\n",
      "33  2010      9   24    34          41358514.41\n",
      "34  2010     10    1    35          42239875.87\n",
      "35  2010     10    8    36          45102974.23\n",
      "36  2010     10   15    37          43149473.45\n",
      "37  2010     10   22    38          43066669.52\n",
      "38  2010     10   29    39          43602830.95\n",
      "39  2010     11    5    40          45781981.89\n",
      "40  2010     11   12    41          46124800.83\n",
      "41  2010     11   19    42          45125584.18\n",
      "42  2010     11   26    43          65821003.24\n",
      "43  2010     12    3    44          49909027.88\n",
      "44  2010     12   10    45          55666770.39\n",
      "45  2010     12   17    46          61820799.85\n",
      "46  2010     12   24    47          80931415.60\n",
      "47  2010     12   31    48          40432519.00\n"
     ]
    }
   ],
   "source": [
    "print(s)\n"
   ]
  },
  {
   "cell_type": "code",
   "execution_count": 60,
   "metadata": {},
   "outputs": [],
   "source": [
    "\n",
    "# sorting data with respect to date\n",
    "final_data = s.sort_values(by='Week')\n"
   ]
  },
  {
   "cell_type": "code",
   "execution_count": 61,
   "metadata": {},
   "outputs": [
    {
     "name": "stdout",
     "output_type": "stream",
     "text": [
      "[[ 1]\n",
      " [ 2]\n",
      " [ 3]\n",
      " [ 4]\n",
      " [ 5]\n",
      " [ 6]\n",
      " [ 7]\n",
      " [ 8]\n",
      " [ 9]\n",
      " [10]\n",
      " [11]\n",
      " [12]\n",
      " [13]\n",
      " [14]\n",
      " [15]\n",
      " [16]\n",
      " [17]\n",
      " [18]\n",
      " [19]\n",
      " [20]\n",
      " [21]\n",
      " [22]\n",
      " [23]\n",
      " [24]\n",
      " [25]\n",
      " [26]\n",
      " [27]\n",
      " [28]\n",
      " [29]\n",
      " [30]\n",
      " [31]\n",
      " [32]\n",
      " [33]\n",
      " [34]\n",
      " [35]\n",
      " [36]\n",
      " [37]\n",
      " [38]\n",
      " [39]\n",
      " [40]\n",
      " [41]\n",
      " [42]\n",
      " [43]\n",
      " [44]\n",
      " [45]\n",
      " [46]\n",
      " [47]\n",
      " [48]]\n",
      "[49750740.5  48336677.63 48276993.78 43968571.13 46871470.3  45925396.51\n",
      " 44988974.64 44133961.05 50423831.26 47365290.44 45183667.08 44734452.56\n",
      " 43705126.71 48503243.52 45330080.2  45120108.06 47757502.56 50188543.12\n",
      " 47826546.72 47622046.23 46609036.29 48917484.5  47899529.37 46243899.58\n",
      " 44888849.11 44630363.42 48204999.12 46464418.41 47060952.92 45909740.44\n",
      " 47194257.61 45634397.84 43080726.51 41358514.41 42239875.87 45102974.23\n",
      " 43149473.45 43066669.52 43602830.95 45781981.89 46124800.83 45125584.18\n",
      " 65821003.24 49909027.88 55666770.39 61820799.85 80931415.6  40432519.  ]\n"
     ]
    }
   ],
   "source": [
    "x = final_data.iloc[:, 3:4].values  \n",
    "y = final_data.iloc[:, 4].values \n",
    "print(x)\n",
    "print(y)\n"
   ]
  },
  {
   "cell_type": "code",
   "execution_count": 98,
   "metadata": {},
   "outputs": [
    {
     "name": "stderr",
     "output_type": "stream",
     "text": [
      "C:\\Users\\chitr\\miniconda3\\lib\\site-packages\\ipykernel_launcher.py:9: DataConversionWarning: A column-vector y was passed when a 1d array was expected. Please change the shape of y to (n_samples,), for example using ravel().\n",
      "  if __name__ == '__main__':\n"
     ]
    },
    {
     "data": {
      "text/plain": [
       "RandomForestRegressor(bootstrap=True, ccp_alpha=0.0, criterion='mse',\n",
       "                      max_depth=None, max_features='auto', max_leaf_nodes=None,\n",
       "                      max_samples=None, min_impurity_decrease=0.0,\n",
       "                      min_impurity_split=None, min_samples_leaf=1,\n",
       "                      min_samples_split=2, min_weight_fraction_leaf=0.0,\n",
       "                      n_estimators=150, n_jobs=None, oob_score=False,\n",
       "                      random_state=0, verbose=0, warm_start=False)"
      ]
     },
     "execution_count": 98,
     "metadata": {},
     "output_type": "execute_result"
    }
   ],
   "source": [
    "# Fitting Random Forest Regression to the dataset \n",
    "# import the regressor \n",
    "from sklearn.ensemble import RandomForestRegressor \n",
    "  \n",
    " # create regressor object \n",
    "regressor = RandomForestRegressor(n_estimators = 150, random_state = 0) \n",
    "  \n",
    "# fit the regressor with x and y data \n",
    "regressor.fit(x, y)   "
   ]
  },
  {
   "cell_type": "code",
   "execution_count": 99,
   "metadata": {},
   "outputs": [],
   "source": [
    "x= x.reshape(-1, 1)\n",
    "y= y.reshape(-1, 1)\n",
    "y_pred = regressor.predict(x)  # test the output by changing values \n"
   ]
  },
  {
   "cell_type": "code",
   "execution_count": 100,
   "metadata": {},
   "outputs": [
    {
     "data": {
      "image/png": "[encoded data removed]",
      "text/plain": [
       "<Figure size 432x288 with 1 Axes>"
      ]
     },
     "metadata": {
      "needs_background": "light"
     },
     "output_type": "display_data"
    }
   ],
   "source": [
    "# Visualising the Random Forest Regression results \n",
    "  \n",
    "# arange for creating a range of values \n",
    "# from min value of x to max  \n",
    "# value of x with a difference of 0.01  \n",
    "# between two consecutive values \n",
    "X_grid = np.arange(min(x), max(x), 0.01)  \n",
    "  \n",
    "# reshape for reshaping the data into a len(X_grid)*1 array,  \n",
    "# i.e. to make a column out of the X_grid value                   \n",
    "X_grid = X_grid.reshape((len(X_grid), 1)) \n",
    "\n",
    "   \n",
    "ax = plt.subplot()\n",
    "#original data plot\n",
    "ax.plot(x,y,label=\"actual values\",color=\"black\")\n",
    "# plot predicted data \n",
    "ax.plot(X_grid,regressor.predict(X_grid),label=\"predicted values\",color=\"red\")\n",
    "ax.legend()    \n",
    "plt.title('Random Forest Regression') \n",
    "plt.xlabel('Week Number') \n",
    "plt.ylabel('Weekly Sales') \n",
    "plt.show()"
   ]
  },
  {
   "cell_type": "code",
   "execution_count": 101,
   "metadata": {},
   "outputs": [
    {
     "name": "stdout",
     "output_type": "stream",
     "text": [
      "1184374.7846652672\n",
      "6385199388268.277\n",
      "2526895.207219381\n",
      "85.09078735536829 %\n"
     ]
    }
   ],
   "source": [
    "print(metrics.mean_absolute_error(y,y_pred))\n",
    "print(metrics.mean_squared_error(y,y_pred))\n",
    "print(np.sqrt(metrics.mean_squared_error(y,y_pred)))\n",
    "accuracy = regressor.score(x,y)\n",
    "print((accuracy*100),\"%\")"
   ]
  },
  {
   "cell_type": "code",
   "execution_count": 83,
   "metadata": {},
   "outputs": [
    {
     "name": "stdout",
     "output_type": "stream",
     "text": [
      "[[47440890.668     ]\n",
      " [47440890.668     ]\n",
      " [47440890.668     ]\n",
      " [46675821.87      ]\n",
      " [46006281.272     ]\n",
      " [45177674.726     ]\n",
      " [46468726.752     ]\n",
      " [46567490.77999999]\n",
      " [46419144.89399999]\n",
      " [46368240.478     ]\n",
      " [46282473.61      ]\n",
      " [45898356.062     ]\n",
      " [45491314.014     ]\n",
      " [45478602.21      ]\n",
      " [46083212.21      ]\n",
      " [47379895.492     ]\n",
      " [47244556.13200001]\n",
      " [47702949.338     ]\n",
      " [48000734.984     ]\n",
      " [48232731.372     ]\n",
      " [47774928.62199999]\n",
      " [47458399.194     ]\n",
      " [46911759.77      ]\n",
      " [46516025.196     ]\n",
      " [46373528.12      ]\n",
      " [46086505.928     ]\n",
      " [46249916.596     ]\n",
      " [46454094.862     ]\n",
      " [46966873.7       ]\n",
      " [46452753.444     ]\n",
      " [45776015.064     ]\n",
      " [44635527.362     ]\n",
      " [43901554.448     ]\n",
      " [43483297.772     ]\n",
      " [42986312.89399999]\n",
      " [42983501.49600001]\n",
      " [43432364.80400001]\n",
      " [44140786.008     ]\n",
      " [44345151.32799999]\n",
      " [44740373.47400001]\n",
      " [49291240.21800001]\n",
      " [50552479.60399999]\n",
      " [52529437.304     ]\n",
      " [55668637.108     ]\n",
      " [62829803.392     ]\n",
      " [57752106.54400001]\n",
      " [57752106.54399999]\n",
      " [57752106.54399999]]\n"
     ]
    }
   ],
   "source": [
    "from sklearn.metrics import mean_absolute_error\n",
    "from sklearn.neighbors import KNeighborsRegressor\n",
    "knn = KNeighborsRegressor(n_neighbors=5,n_jobs=2)\n",
    "knn.fit(x,y)\n",
    "y_pred = knn.predict(x)\n",
    "print(y_pred)"
   ]
  },
  {
   "cell_type": "code",
   "execution_count": 84,
   "metadata": {},
   "outputs": [
    {
     "name": "stderr",
     "output_type": "stream",
     "text": [
      "C:\\Users\\chitr\\miniconda3\\lib\\site-packages\\ipykernel_launcher.py:2: MatplotlibDeprecationWarning: Adding an axes using the same arguments as a previous axes currently reuses the earlier instance.  In a future version, a new instance will always be created and returned.  Meanwhile, this warning can be suppressed, and the future behavior ensured, by passing a unique label to each axes instance.\n",
      "  \n"
     ]
    },
    {
     "data": {
      "image/png": "[encoded data removed]",
      "text/plain": [
       "<Figure size 432x288 with 1 Axes>"
      ]
     },
     "metadata": {
      "needs_background": "light"
     },
     "output_type": "display_data"
    }
   ],
   "source": [
    "plt.title('KNN Regression') \n",
    "ax = plt.subplot()\n",
    "ax.scatter(y,y,label=\"actual values\",color=\"black\")\n",
    "ax.scatter(y,y_pred,label=\"predicted values\",color=\"red\")\n",
    "ax.legend()\n",
    "plt.show()\n",
    "\n",
    "\n"
   ]
  },
  {
   "cell_type": "code",
   "execution_count": 85,
   "metadata": {},
   "outputs": [
    {
     "name": "stdout",
     "output_type": "stream",
     "text": [
      "2735826.8250416657\n",
      "26074376981170.906\n",
      "5106307.568211193\n",
      "39.117260503591055 %\n"
     ]
    }
   ],
   "source": [
    "print(metrics.mean_absolute_error(y,y_pred))\n",
    "print(metrics.mean_squared_error(y,y_pred))\n",
    "print(np.sqrt(metrics.mean_squared_error(y,y_pred)))\n",
    "accuracy = knn.score(x,y)\n",
    "print((accuracy*100),\"%\")"
   ]
  }
 ],
 "metadata": {
  "kernelspec": {
   "display_name": "Python 3",
   "language": "python",
   "name": "python3"
  },
  "language_info": {
   "codemirror_mode": {
    "name": "ipython",
    "version": 3
   },
   "file_extension": ".py",
   "mimetype": "text/x-python",
   "name": "python",
   "nbconvert_exporter": "python",
   "pygments_lexer": "ipython3",
   "version": "3.7.6"
  }
 },
 "nbformat": 4,
 "nbformat_minor": 4
}
